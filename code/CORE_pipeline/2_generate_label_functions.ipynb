{
 "cells": [
  {
   "cell_type": "code",
   "execution_count": null,
   "id": "a39b91f5",
   "metadata": {},
   "outputs": [],
   "source": [
    "import os\n",
    "import json\n",
    "import yaml\n",
    "from datetime import datetime\n",
    "# os.environ[\"CUDA_VISIBLE_DEVICES\"] = \"0\"\n",
    "os.environ['HF_ENDPOINT'] = 'https://hf-mirror.com'\n",
    "\n",
    "import importlib\n",
    "import help_functions\n",
    "importlib.reload(help_functions)\n",
    "from help_functions import *"
   ]
  },
  {
   "cell_type": "code",
   "execution_count": 2,
   "id": "fa1acd98",
   "metadata": {},
   "outputs": [
    {
     "name": "stderr",
     "output_type": "stream",
     "text": [
      "/home2/wky/anaconda3/envs/android_world/lib/python3.11/site-packages/requests/__init__.py:86: RequestsDependencyWarning: Unable to find acceptable character detection dependency (chardet or charset_normalizer).\n",
      "  warnings.warn(\n",
      "Sliding Window Attention is enabled but not implemented for `sdpa`; unexpected results may be encountered.\n"
     ]
    },
    {
     "data": {
      "application/vnd.jupyter.widget-view+json": {
       "model_id": "da2be08eeb8941be8d943b91f7fc508d",
       "version_major": 2,
       "version_minor": 0
      },
      "text/plain": [
       "Loading checkpoint shards:   0%|          | 0/2 [00:00<?, ?it/s]"
      ]
     },
     "metadata": {},
     "output_type": "display_data"
    }
   ],
   "source": [
    "from transformers import AutoModelForCausalLM, AutoTokenizer\n",
    "\n",
    "model_path = \"../../Qwen2.5-Coder-3B-Instruct\"\n",
    "\n",
    "model_code = AutoModelForCausalLM.from_pretrained(\n",
    "    model_path,\n",
    "    torch_dtype=\"auto\",\n",
    "    device_map=\"auto\"\n",
    ")\n",
    "tokenizer_code = AutoTokenizer.from_pretrained(model_path)"
   ]
  },
  {
   "cell_type": "code",
   "execution_count": 3,
   "id": "3a355107",
   "metadata": {},
   "outputs": [],
   "source": [
    "with open('prompt.yaml', 'r') as file:\n",
    "    prompts = yaml.safe_load(file)\n",
    "prompt_code = prompts['prompt_code']"
   ]
  },
  {
   "cell_type": "code",
   "execution_count": 4,
   "id": "73de3350",
   "metadata": {},
   "outputs": [],
   "source": [
    "def extract_code_from_text(text):\n",
    "    \"\"\"\n",
    "    从文本中提取 Python 代码块（代码在 ```python 和 ``` 之间）\n",
    "    \"\"\"\n",
    "    # 使用正则表达式匹配 ```python 和 ``` 之间的内容\n",
    "    pattern1 = r\"```python\\n(.*?)\\n```\"\n",
    "    match1 = re.search(pattern1, text, re.DOTALL)\n",
    "    if match1:\n",
    "        code = match1.group(1)\n",
    "        \n",
    "        # 这里是为了加上可执行的代码\n",
    "        pattern2 = r'def\\s+(.*?):'\n",
    "        match2 = re.search(pattern2, code)\n",
    "        execute_code = match2.group(1)\n",
    "        code_add = f\"\\n# Execute and return result\\nresult = {execute_code}\"\n",
    "        code += code_add\n",
    "\n",
    "        return code\n",
    "    else:\n",
    "        raise ValueError(\"未能在文本中找到 Python 代码块\")\n",
    "\n",
    "def get_code_response(subtask, prompt):\n",
    "    # subtask = \"Subtask: Enter the search term \\\"winter coat\\\" into the search bar.\"\n",
    "    messages = [\n",
    "        {\"role\": \"system\", \"content\": prompt},\n",
    "        {\"role\": \"user\", \"content\": subtask}\n",
    "    ]\n",
    "    text = tokenizer_code.apply_chat_template(\n",
    "        messages,\n",
    "        tokenize=False\n",
    "    )\n",
    "    model_inputs = tokenizer_code([text], return_tensors=\"pt\").to(model_code.device)\n",
    "\n",
    "    generated_ids = model_code.generate(\n",
    "        **model_inputs,\n",
    "        max_new_tokens=512\n",
    "    )\n",
    "    generated_ids = [\n",
    "        output_ids[len(input_ids):] for input_ids, output_ids in zip(model_inputs.input_ids, generated_ids)\n",
    "    ]\n",
    "\n",
    "    response = tokenizer_code.batch_decode(generated_ids, skip_special_tokens=True)[0]\n",
    "\n",
    "    return response"
   ]
  },
  {
   "cell_type": "code",
   "execution_count": 5,
   "id": "6c175e3c",
   "metadata": {},
   "outputs": [],
   "source": [
    "def get_label_function(name, key_nodes, trajectory, code_output_dir):\n",
    "    if not os.path.exists(code_output_dir):\n",
    "        os.makedirs(code_output_dir)\n",
    "\n",
    "    file_path = os.path.join(code_output_dir, f\"{name}.txt\")\n",
    "    with open(file_path, \"w\", encoding=\"utf-8\") as file:  # 先清空文件\n",
    "        current_time = datetime.now().strftime(\"%Y-%m-%d %H:%M:%S\")\n",
    "        file.write(f\"{current_time} - Task Name: {name}\\n\\n\")\n",
    "\n",
    "    for i, key_action in enumerate(key_nodes):\n",
    "        code_list, result_list, errors = [], [], []\n",
    "        print(key_action, flush=True)\n",
    "        for _ in range(5):\n",
    "            code, result, error = \"\", \"\", None\n",
    "            try:\n",
    "                response = get_code_response(key_action, prompt_code)\n",
    "                code = extract_code_from_text(response)\n",
    "                params = {\"trajectory\": trajectory}\n",
    "                exec(code, params)\n",
    "                result = params.get('result', None)\n",
    "            except Exception as e:\n",
    "                result = None\n",
    "                error = str(e)  # 记录错误信息\n",
    "                print(f\"Error occurred: {error}\", flush=True)\n",
    "\n",
    "            print(\"Result = \", result, flush=True)\n",
    "            print()\n",
    "            code_list.append(code)\n",
    "            result_list.append(result)\n",
    "            errors.append(error)\n",
    "            # 遇到 True 的直接退出\n",
    "            if result == True:\n",
    "                break\n",
    "\n",
    "        # 追加写入当前 key_action 的结果\n",
    "        with open(file_path, \"a\", encoding=\"utf-8\") as file:\n",
    "            file.write(f\"Key Action: {key_action}\\n\\n\")\n",
    "            for i, (code, result, error) in enumerate(zip(code_list, result_list, errors), 1):\n",
    "                file.write(f\"Code Block {i}:\\n\")\n",
    "                file.write(code + \"\\n\")\n",
    "                file.write(\"Result = \" + str(result)+ \"\\n\")\n",
    "                if error is not None:\n",
    "                    file.write(f\"Error occurred: {error}\" + \"\\n\")\n",
    "                file.write(\"=\"*20 + \"\\n\\n\")\n",
    "            file.write(\"=\"*50 + \"\\n\\n\")  # 添加分隔线区分不同 key_action\n",
    "        # break"
   ]
  },
  {
   "cell_type": "code",
   "execution_count": 6,
   "id": "7e741df0",
   "metadata": {},
   "outputs": [],
   "source": [
    "def get_label_function_for_expert_demo():\n",
    "    output_dir = \"json_files/OS-Atlas/InnovAll/Iter3\"\n",
    "    # output_dir = \"json_files/GUI-R1/InnovAll/Iter2\"\n",
    "    # success_tasks_path = f\"{output_dir}/success_tasks_all.json\"\n",
    "    success_tasks_path = f\"{output_dir}/success_tasks_new.json\"\n",
    "    code_output_dir = f\"{output_dir}/code_lists\"\n",
    "    data_file = f\"{output_dir}/tasks_and_key_nodes.json\"\n",
    "\n",
    "    with open(data_file, 'r') as f:\n",
    "        tasks_and_key_nodes = json.load(f)\n",
    "    with open(success_tasks_path, 'r', encoding='utf-8') as json_file:\n",
    "        success_tasks = json.load(json_file)\n",
    "\n",
    "    for name, details in tasks_and_key_nodes.items():\n",
    "        # if name != \"SystemWifiTurnOffVerify\":\n",
    "        #     continue\n",
    "        file_path = success_tasks[name]\n",
    "        trajectory = get_trajectory(file_path)\n",
    "\n",
    "        print(\"===========\")\n",
    "        print(name)\n",
    "        print(\"Objective:\", trajectory['objective'])\n",
    "        print(\"Template :\", trajectory['task_template'])\n",
    "        print(trajectory['map'])\n",
    "        print(\"Action list:\")\n",
    "        for action in trajectory['action_description']:\n",
    "            print(action)\n",
    "        print(\"Key Actions:\")\n",
    "        key_nodes = details['key_nodes']\n",
    "        for key_node in key_nodes:\n",
    "            print(key_node)\n",
    "        get_label_function(name, key_nodes, trajectory, code_output_dir)"
   ]
  },
  {
   "cell_type": "code",
   "execution_count": null,
   "id": "9bccfafe",
   "metadata": {},
   "outputs": [
    {
     "name": "stdout",
     "output_type": "stream",
     "text": [
      "===========\n",
      "SystemBluetoothTurnOn\n",
      "Objective: Turn bluetooth on.\n",
      "Template : Turn bluetooth on.\n",
      "None\n",
      "Action list:\n",
      "Scroll up on the screen.\n",
      "Click on a UI element 'Off' on the screen.\n",
      "Set the task's status as 'complete'.\n",
      "Key Actions:\n",
      "Scroll up on the screen.\n",
      "Click on a UI element 'Off' on the screen.\n",
      "Set the task's status as 'complete'.\n",
      "Scroll up on the screen.\n",
      "Result =  True\n",
      "\n",
      "Click on a UI element 'Off' on the screen.\n",
      "Result =  True\n",
      "\n",
      "Set the task's status as 'complete'.\n",
      "Result =  True\n",
      "\n",
      "===========\n",
      "SystemBrightnessMinVerify\n",
      "Objective: Turn brightness to the min value.\n",
      "Template : Turn brightness to the min value.\n",
      "None\n",
      "Action list:\n",
      "Scroll down on the screen.\n",
      "Click on a UI element 'Calendar' on the screen.\n",
      "Set the task's status as 'infeasible'.\n",
      "Key Actions:\n",
      "Scroll down on the screen.\n",
      "Click on a UI element 'Calendar' on the screen.\n",
      "Set the task's status as 'infeasible'.\n",
      "Scroll down on the screen.\n",
      "Result =  True\n",
      "\n",
      "Click on a UI element 'Calendar' on the screen.\n",
      "Result =  True\n",
      "\n",
      "Set the task's status as 'infeasible'.\n",
      "Result =  True\n",
      "\n"
     ]
    }
   ],
   "source": [
    "# get_label_function_for_expert_demo()"
   ]
  },
  {
   "cell_type": "markdown",
   "id": "25a3e0ba",
   "metadata": {},
   "source": [
    "### 测试阶段"
   ]
  },
  {
   "cell_type": "code",
   "execution_count": null,
   "id": "1d8cddf7",
   "metadata": {},
   "outputs": [
    {
     "name": "stdout",
     "output_type": "stream",
     "text": [
      "objective:  Create a new note in Markor named fair_ant_XOdi.txt with the following text: Actions speak louder than words.. Share the entire content of the note with the phone number +13192815309 via SMS using Simple SMS Messenger\n",
      "template :  Create a new note in Markor named {file_name} with the following text: {text}. Share the entire content of the note with the phone number {number} via SMS using Simple SMS Messenger\n",
      "{'file_name': 'fair_ant_XOdi.txt', 'text': 'Actions speak louder than words.', 'number': '+13192815309'}\n",
      "False\n"
     ]
    }
   ],
   "source": [
    "# filename = \"MarkorCreateNoteAndSms\"\n",
    "# folder_path = \"../runs/expert\"\n",
    "# file_path = os.path.join(folder_path, filename + \"_0.pkl.gz\")\n",
    "# trajectory = get_trajectory(file_path)\n",
    "\n",
    "# import importlib\n",
    "# import Function_APIs\n",
    "# # from help_functions import *\n",
    "# importlib.reload(Function_APIs)\n",
    "# from Function_APIs import *\n",
    "\n",
    "# def verify_function(trajectory):\n",
    "#     if not validate_type_action(trajectory, \"Actions speak louder than words.\", \"Type a message…\"):\n",
    "#         return False\n",
    "#     if not validate_keyboard_enter_action(trajectory):\n",
    "#         return False\n",
    "#     return True\n",
    "\n",
    "# result = verify_function(trajectory)\n",
    "# print(result)\n"
   ]
  }
 ],
 "metadata": {
  "kernelspec": {
   "display_name": "android_world",
   "language": "python",
   "name": "python3"
  },
  "language_info": {
   "codemirror_mode": {
    "name": "ipython",
    "version": 3
   },
   "file_extension": ".py",
   "mimetype": "text/x-python",
   "name": "python",
   "nbconvert_exporter": "python",
   "pygments_lexer": "ipython3",
   "version": "3.11.8"
  }
 },
 "nbformat": 4,
 "nbformat_minor": 5
}
